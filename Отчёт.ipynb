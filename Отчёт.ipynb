{
 "cells": [
  {
   "cell_type": "markdown",
   "metadata": {},
   "source": [
    "#Анализ данных_train_proto.ipynb и Анализ данных_valid.ipynb содержат анализ и обработку данных.\n",
    "#Файлы train_clnd и valid_clnd это данные прошедшие очистку.\n",
    "#Очистка данных_valid.ipynb содержит отдельную функцию очистки данных.\n",
    "#Информация по Catboost содержится в одноимённой папке.\n",
    "#Файлы submission содержат вероятности полученные в ходе обучения модели.\n",
    "#Модели и их отображение находятся в одноимённой папке."
   ]
  }
 ],
 "metadata": {
  "language_info": {
   "name": "python"
  }
 },
 "nbformat": 4,
 "nbformat_minor": 2
}
