{
 "cells": [
  {
   "cell_type": "code",
   "execution_count": 1,
   "metadata": {},
   "outputs": [
    {
     "name": "stdout",
     "output_type": "stream",
     "text": [
      "Defaulting to user installation because normal site-packages is not writeable\n",
      "Collecting sklearn\n",
      "  Using cached sklearn-0.0.post12.tar.gz (2.6 kB)\n",
      "Note: you may need to restart the kernel to use updated packages.\n"
     ]
    },
    {
     "name": "stderr",
     "output_type": "stream",
     "text": [
      "    ERROR: Command errored out with exit status 1:\n",
      "     command: 'c:\\Program Files\\Python39\\python.exe' -c 'import sys, setuptools, tokenize; sys.argv[0] = '\"'\"'C:\\\\Users\\\\user\\\\AppData\\\\Local\\\\Temp\\\\pip-install-plk2ajdm\\\\sklearn\\\\setup.py'\"'\"'; __file__='\"'\"'C:\\\\Users\\\\user\\\\AppData\\\\Local\\\\Temp\\\\pip-install-plk2ajdm\\\\sklearn\\\\setup.py'\"'\"';f=getattr(tokenize, '\"'\"'open'\"'\"', open)(__file__);code=f.read().replace('\"'\"'\\r\\n'\"'\"', '\"'\"'\\n'\"'\"');f.close();exec(compile(code, __file__, '\"'\"'exec'\"'\"'))' egg_info --egg-base 'C:\\Users\\user\\AppData\\Local\\Temp\\pip-pip-egg-info-b2fc920r'\n",
      "         cwd: C:\\Users\\user\\AppData\\Local\\Temp\\pip-install-plk2ajdm\\sklearn\\\n",
      "    Complete output (15 lines):\n",
      "    The 'sklearn' PyPI package is deprecated, use 'scikit-learn'\n",
      "    rather than 'sklearn' for pip commands.\n",
      "    \n",
      "    Here is how to fix this error in the main use cases:\n",
      "    - use 'pip install scikit-learn' rather than 'pip install sklearn'\n",
      "    - replace 'sklearn' by 'scikit-learn' in your pip requirements files\n",
      "      (requirements.txt, setup.py, setup.cfg, Pipfile, etc ...)\n",
      "    - if the 'sklearn' package is used by one of your dependencies,\n",
      "      it would be great if you take some time to track which package uses\n",
      "      'sklearn' instead of 'scikit-learn' and report it to their issue tracker\n",
      "    - as a last resort, set the environment variable\n",
      "      SKLEARN_ALLOW_DEPRECATED_SKLEARN_PACKAGE_INSTALL=True to avoid this error\n",
      "    \n",
      "    More information is available at\n",
      "    https://github.com/scikit-learn/sklearn-pypi-package\n",
      "    ----------------------------------------\n",
      "ERROR: Command errored out with exit status 1: python setup.py egg_info Check the logs for full command output.\n",
      "WARNING: You are using pip version 20.2.3; however, version 24.3.1 is available.\n",
      "You should consider upgrading via the 'c:\\Program Files\\Python39\\python.exe -m pip install --upgrade pip' command.\n"
     ]
    },
    {
     "name": "stdout",
     "output_type": "stream",
     "text": [
      "Defaulting to user installation because normal site-packages is not writeable\n",
      "Note: you may need to restart the kernel to use updated packages.\n"
     ]
    },
    {
     "name": "stderr",
     "output_type": "stream",
     "text": [
      "ERROR: Could not find a version that satisfies the requirement sqlite3 (from versions: none)\n",
      "ERROR: No matching distribution found for sqlite3\n",
      "WARNING: You are using pip version 20.2.3; however, version 24.3.1 is available.\n",
      "You should consider upgrading via the 'c:\\Program Files\\Python39\\python.exe -m pip install --upgrade pip' command.\n"
     ]
    }
   ],
   "source": [
    "%pip install sklearn\n",
    "%pip install sqlite3"
   ]
  },
  {
   "cell_type": "code",
   "execution_count": 2,
   "metadata": {},
   "outputs": [],
   "source": [
    "import pandas as pd\n",
    "\n",
    "df = pd.read_csv(\"valid_clnd_2.csv\")  # Замените 'input_file.csv' на имя вашего файла\n",
    "\n",
    "# Список столбцов, которые нужно оставить\n",
    "columns_to_keep = ['target', 'col476', 'col480', 'col484', 'col488', 'col492', 'col496', 'col500', 'col504', 'col508', 'col512', 'col1453', 'col1455', 'col1456', 'col1457', 'col1458', 'col1459', 'col1460', 'col1461', 'col1462', 'col1463', 'col1464', 'col1465', 'col1466', 'col1467', 'col1468', 'col1469', 'col1470', 'col1472', 'col1473', 'col1474', 'col1475', 'col1476', 'col1477', 'col1478', 'col1487', 'col1488', 'col1489', 'col1490', 'col1491', 'col1492', 'col1493', 'col1494', 'col1496', 'col1497', 'col1498', 'col1499', 'col1500', 'col1501', 'col1502', 'col1503', 'col1504', 'col1505', 'col1506', 'col1507', 'col1508', 'col1509', 'col1510', 'col1511', 'col1512', 'col1513', 'col1514', 'col1515', 'col1516', 'col1517', 'col1518', 'col1523', 'col1524', 'col1526', 'col1823', 'col1824', 'col1825', 'col1826', 'col1827', 'col1828', 'col1829', 'col1830', 'col1831', 'col1832', 'col1833', 'col1834', 'col1835', 'col1836', 'col1837', 'col1838', 'col1839', 'col1840', 'col1841', 'col1842', 'col1843', 'col1844', 'col1845', 'col1846', 'col1847', 'col1848', 'col1849', 'col1850', 'col1851', 'col1852', 'col1853', 'col1854', 'col1855', 'col1856', 'col1857', 'col1858', 'col1859', 'col1860', 'col1861', 'col1862', 'col1864', 'col1865', 'col1866', 'col1867', 'col1868', 'col1869', 'col1870', 'col1895', 'col1896', 'col1897', 'col1898', 'col1899', 'col1900', 'col1901', 'col1902', 'col1903', 'col1904', 'col1905', 'col1906', 'col1907', 'col1908', 'col1909', 'col1910', 'col1919', 'col1920', 'col1921', 'col1922', 'col1923', 'col1924', 'col1925', 'col1926', 'col1927', 'col1928', 'col1929', 'col1930', 'col1931', 'col1932', 'col1933', 'col1934', 'col1935', 'col1936', 'col1937', 'col1938', 'col1939', 'col1940', 'col1941', 'col1942', 'col1943', 'col1944', 'col1945', 'col1946', 'col1947', 'col1948', 'col1949', 'col1950', 'col1951', 'col1952', 'col1953', 'col1954', 'col1955', 'col1956', 'col1957', 'col1958', 'col1959', 'col1960', 'col1961', 'col1962', 'col1963', 'col1964', 'col1965', 'col1966', 'col1967', 'col1968', 'col1969', 'col1970', 'col1971', 'col1972', 'col1973', 'col1974', 'col1987', 'col1988', 'col1989', 'col1990', 'col1991', 'col1992', 'col1996', 'col1997', 'col1998', 'col2011', 'col2012', 'col2013', 'col2014', 'col2015', 'col2016', 'col2020', 'col2021', 'col2022', 'col2035', 'col2036', 'col2037', 'col2038', 'col2039', 'col2040', 'col2044', 'col2045', 'col2046', 'col2059', 'col2060', 'col2061', 'col2062', 'col2063', 'col2064', 'col2068', 'col2069', 'col2070', 'col2083', 'col2084', 'col2085', 'col2086', 'col2087', 'col2088', 'col2092', 'col2093', 'col2094', 'col2110', 'col2111', 'col2112', 'col2116', 'col2117', 'col2118', 'col2134', 'col2135', 'col2136', 'col2140', 'col2141', 'col2142', 'col2155', 'col2156', 'col2157', 'col2158', 'col2159', 'col2160', 'col2164', 'col2165', 'col2166', 'col2167', 'col2168', 'col2169', 'col2170', 'col2171', 'col2172', 'col2173', 'col2174', 'col2175', 'col2176', 'col2177', 'col2178', 'col2179', 'col2180', 'col2181', 'col2182', 'col2183', 'col2184', 'col2185', 'col2186', 'col2187', 'col2188', 'col2189', 'col2190', 'col2205', 'col2206', 'col2207', 'col2208', 'col2209', 'col2210', 'col2211', 'col2212', 'col2213', 'col2214', 'col2215', 'col2216', 'col2220', 'col2221', 'col2222', 'col2229', 'col2230', 'col2231', 'col2232', 'col2233', 'col2234', 'col2235', 'col2236', 'col2237', 'col2238', 'col2239', 'col2240', 'col2244', 'col2245', 'col2246', 'col2277', 'col2278', 'col2279', 'col2280', 'col2281', 'col2282', 'col2283', 'col2284', 'col2285', 'col2286', 'col2287', 'col2288', 'col2292', 'col2293', 'col2294', 'col2301', 'col2302', 'col2303', 'col2304', 'col2305', 'col2306', 'col2307', 'col2308', 'col2309', 'col2310', 'col2311', 'col2312', 'col2316', 'col2317', 'col2318', 'col2325', 'col2326', 'col2327', 'col2328', 'col2329', 'col2330', 'col2331', 'col2332', 'col2333', 'col2334', 'col2335', 'col2336', 'col2340', 'col2341', 'col2342', 'col2349', 'col2350', 'col2351', 'col2352', 'col2353', 'col2354', 'col2355', 'col2356', 'col2357', 'col2358', 'col2359', 'col2360', 'col2364', 'col2365', 'col2366', 'col2373', 'col2374', 'col2375', 'col2376', 'col2377', 'col2378', 'col2379', 'col2380', 'col2381', 'col2382', 'col2383', 'col2384', 'col2388', 'col2389', 'col2390', 'col2400', 'col2401', 'col2402', 'col2403', 'col2404', 'col2405', 'col2406', 'col2407', 'col2408', 'col2412', 'col2413', 'col2414', 'col2424', 'col2425', 'col2426', 'col2427', 'col2428', 'col2429', 'col2430', 'col2431', 'col2432', 'col2436', 'col2437', 'col2438', 'col2445', 'col2446', 'col2447', 'col2448', 'col2449', 'col2450', 'col2451', 'col2452', 'col2453', 'col2454', 'col2455', 'col2456', 'col2460', 'col2461', 'col2462', 'col2465', 'col2466', 'col2467', 'col2468', 'col2470', 'col2479', 'col2480', 'col2481', 'col2482', 'col2483', 'col2484', 'col2485', 'col2486', 'col2487', 'col2488', 'col2489', 'col2490', 'col2491', 'col2492', 'col2493', 'col2494', 'col2495', 'col2496', 'col2497', 'col2498', 'col2499', 'col2500', 'col2501', 'col2502', 'col2552', 'col2553', 'col2554', 'col2555', 'col2556', 'col2557', 'col2558', 'col2559', 'col2560', 'col2564', 'col2565', 'col2566', 'col2576', 'col2577', 'col2578', 'col2579', 'col2580', 'col2581', 'col2582', 'col2583', 'col2584', 'col2588', 'col2589', 'col2590', 'col2606', 'col2607', 'col2608', 'col2612', 'col2613', 'col2614', 'col2630', 'col2631', 'col2632', 'col2636', 'col2637', 'col2638', 'col2648', 'col2649', 'col2650', 'col2651', 'col2652', 'col2653', 'col2654', 'col2655', 'col2656', 'col2660', 'col2661', 'col2662', 'col2663']\n",
    "filtered_df = df[columns_to_keep]\n",
    "\n",
    "# Сохраняем отфильтрованные данные в новый файл\n",
    "filtered_df.to_csv(\"valid_clnd_4.csv\", index=False)"
   ]
  }
 ],
 "metadata": {
  "kernelspec": {
   "display_name": "Python 3",
   "language": "python",
   "name": "python3"
  },
  "language_info": {
   "codemirror_mode": {
    "name": "ipython",
    "version": 3
   },
   "file_extension": ".py",
   "mimetype": "text/x-python",
   "name": "python",
   "nbconvert_exporter": "python",
   "pygments_lexer": "ipython3",
   "version": "3.9.0"
  }
 },
 "nbformat": 4,
 "nbformat_minor": 2
}
